{
 "cells": [
  {
   "cell_type": "markdown",
   "id": "ffd65e2a",
   "metadata": {},
   "source": [
    "# Wordle\n",
    "\n",
    "Shahed Hanif"
   ]
  },
  {
   "cell_type": "markdown",
   "id": "696ec23e",
   "metadata": {},
   "source": [
    "## Libraries & Packages"
   ]
  },
  {
   "cell_type": "code",
   "execution_count": null,
   "id": "ab66a4a5",
   "metadata": {},
   "outputs": [],
   "source": [
    "import random"
   ]
  },
  {
   "cell_type": "markdown",
   "id": "a4918e90",
   "metadata": {},
   "source": [
    "## Dictionary\n",
    "\n",
    "Create list of five letter words from the 'dictionary.txt' file."
   ]
  },
  {
   "cell_type": "code",
   "execution_count": null,
   "id": "de348599",
   "metadata": {},
   "outputs": [],
   "source": [
    "# Filter out five letter words from dictionary file\n",
    "def filter_five_letter_words(file_path):\n",
    "    # Open file\n",
    "    with open(file_path) as f:\n",
    "        words = f.read()\n",
    "    \n",
    "    # Store all the words as a list of individual words\n",
    "    all_words = words.split()\n",
    "    \n",
    "    # Initialize the list of five letter words \n",
    "    five_letter_words = []\n",
    "    \n",
    "    # Loop through every word in the dictionary and store five letter words\n",
    "    for word in all_words:\n",
    "        # Append five letter words to list\n",
    "        if len(word) == 5:\n",
    "            five_letter_words.append(word.upper())\n",
    "    \n",
    "    return five_letter_words"
   ]
  },
  {
   "cell_type": "markdown",
   "id": "3ef006ff",
   "metadata": {},
   "source": [
    "## Hidden Word\n",
    "\n",
    "Choose a hidden word from the list of five letter words."
   ]
  },
  {
   "cell_type": "code",
   "execution_count": null,
   "id": "fe94c959",
   "metadata": {},
   "outputs": [],
   "source": [
    "# Randomly choose a hidden word from the list of five letter words\n",
    "def generate_hidden_word(five_letter_words):\n",
    "    return random.choice(five_letter_words)"
   ]
  },
  {
   "cell_type": "markdown",
   "id": "e34f1518",
   "metadata": {},
   "source": [
    "## User's Guess\n",
    "\n",
    "Allow user to guess a five letter word."
   ]
  },
  {
   "cell_type": "code",
   "execution_count": null,
   "id": "deff7c36",
   "metadata": {},
   "outputs": [],
   "source": [
    "# Get user's guess, a five letter word\n",
    "def get_user_guess():\n",
    "    return input(\"Enter your guess: \").upper()"
   ]
  },
  {
   "cell_type": "markdown",
   "id": "5940a813",
   "metadata": {},
   "source": [
    "## Validate User's Guess\n",
    "\n",
    "Check if the user's guess is valid i.e. should be five letters long, all letters, and in the list of five letter words."
   ]
  },
  {
   "cell_type": "code",
   "execution_count": null,
   "id": "caabbfec",
   "metadata": {},
   "outputs": [],
   "source": [
    "# Check if the user's guess is a valid five letter word, contains all letters, and is in the allowed list\n",
    "def validate_guess(guess, five_letter_words):\n",
    "    return len(guess) == 5 and guess.isalpha() and guess.upper() in five_letter_words"
   ]
  },
  {
   "cell_type": "markdown",
   "id": "f3c8dada",
   "metadata": {},
   "source": [
    "## Compare User's Guess to Hidden Word\n",
    "\n",
    "Determine matches for exact positions and incorrect positions."
   ]
  },
  {
   "cell_type": "code",
   "execution_count": null,
   "id": "50b3777a",
   "metadata": {},
   "outputs": [],
   "source": [
    "# Compare the user's guess to the hidden word, generating a result list with \"^\", \"*\", and \"-\" characters\n",
    "def compare_guess_to_word(guess, word):\n",
    "    result = [\"-\"] * len(guess)  # Initialize result list with \"-\" characters\n",
    "    matched_indices = []  # Store the indices of matched letters from the hidden word\n",
    "\n",
    "    # First, find exact matches (green)\n",
    "    for i in range(len(guess)):\n",
    "        # If the letter in the guess matches the letter in the hidden word at the same position\n",
    "        if guess[i] == word[i]:\n",
    "            result[i] = \"^\"  # Update the result list with \"^\" for a letter in the correct position\n",
    "            matched_indices.append(i)  # Keep track of matched indices\n",
    "\n",
    "    # Then, find partial matches (yellow)\n",
    "    for i in range(len(guess)):\n",
    "        # If the current result character is not \"^\" and the guessed letter is in the hidden word\n",
    "        if result[i] != \"^\" and guess[i] in word:\n",
    "            # Loop through the hidden word to find an unmatched index with the same letter\n",
    "            for j in range(len(word)):\n",
    "                if word[j] == guess[i] and j not in matched_indices:\n",
    "                    result[i] = \"*\"  # Update the result list with \"*\" for a letter in the wrong position\n",
    "                    matched_indices.append(j)  # Keep track of matched indices\n",
    "                    break  # Stop searching for more matches\n",
    "\n",
    "    return result"
   ]
  },
  {
   "cell_type": "markdown",
   "id": "e4d43639",
   "metadata": {},
   "source": [
    "## Feedback\n",
    "\n",
    "Display whether the letters in the word are in the exact or incorrect position as well as whether or not the letter is in the word."
   ]
  },
  {
   "cell_type": "code",
   "execution_count": null,
   "id": "6c1adff7",
   "metadata": {},
   "outputs": [],
   "source": [
    "# Display the user's guess along with the result list showing \"^\", \"*\", and \"-\" characters\n",
    "def display_guess_result(guess, result):\n",
    "    # Print the guessed letters\n",
    "    for letter in guess:\n",
    "        print(letter, end=\" \")\n",
    "    print()\n",
    "\n",
    "    # Print the result characters below the guessed letters\n",
    "    for char in result:\n",
    "        if char == \"^\":\n",
    "            print(\"^\", end=\" \")\n",
    "        elif char == \"*\":\n",
    "            print(\"*\", end=\" \")\n",
    "        else:\n",
    "            print(\"-\", end=\" \")\n",
    "    print()"
   ]
  },
  {
   "cell_type": "markdown",
   "id": "d22aef81",
   "metadata": {},
   "source": [
    "## Wordle\n",
    "\n",
    "Track attempts and output proper feedback depending on whether or not the user was able to guess the word.\n",
    "\n",
    "\"^\" - indicates that a letter is in the correct position.\n",
    "\n",
    "\"*\" - indicates that a letter is in the word, but in the wrong position.\n",
    "\n",
    "\"-\" - indicates that a letter is in not in the word."
   ]
  },
  {
   "cell_type": "code",
   "execution_count": null,
   "id": "b39ddce8",
   "metadata": {},
   "outputs": [],
   "source": [
    "# Main function to play the Wordle game\n",
    "def wordle():\n",
    "    # Filter five letter words from the dictionary and generate a hidden word\n",
    "    five_letter_words = filter_five_letter_words(\"dictionary.txt\")\n",
    "    hidden_word = generate_hidden_word(five_letter_words)\n",
    "\n",
    "    attempts = 6  # Set the number of allowed attempts\n",
    "    while attempts > 0:\n",
    "        # Get the user's guess and validate it\n",
    "        guess = get_user_guess()\n",
    "        while not validate_guess(guess, five_letter_words):\n",
    "            print(\"Invalid guess. Please enter a valid 5-letter word from the list.\")\n",
    "            guess = get_user_guess()\n",
    "        \n",
    "        # Compare the user's guess to the hidden word and generate a result list\n",
    "        result = compare_guess_to_word(guess, hidden_word)\n",
    "        # Display the user's guess along with the result list\n",
    "        display_guess_result(guess, result)\n",
    "\n",
    "        # If the user guessed the hidden word correctly\n",
    "        if \"\".join(result) == \"^\" * 5:\n",
    "            print(f\"Congratulations! You guessed the word: {hidden_word}\")\n",
    "            break\n",
    "        else:\n",
    "            # Decrement the remaining attempts and inform the user\n",
    "            attempts -= 1\n",
    "            print(f\"{attempts} attempts remaining.\")\n",
    "\n",
    "    # If the user ran out of attempts, reveal the hidden word\n",
    "    if attempts == 0:\n",
    "        print(f\"You ran out of attempts. The hidden word was: {hidden_word}\")"
   ]
  },
  {
   "cell_type": "code",
   "execution_count": null,
   "id": "37de3684",
   "metadata": {
    "scrolled": false
   },
   "outputs": [],
   "source": [
    "wordle()"
   ]
  },
  {
   "cell_type": "markdown",
   "id": "40cbeefc",
   "metadata": {},
   "source": [
    "## Extra Credit\n",
    "\n",
    "Allow words from the entire dictionary with the number of attempts equal to the length of the word plus one."
   ]
  },
  {
   "cell_type": "code",
   "execution_count": null,
   "id": "ff130d9c",
   "metadata": {},
   "outputs": [],
   "source": [
    "# Filter out valid words from dictionary file\n",
    "def filter_valid_words(file_path):\n",
    "    # Open the file\n",
    "    with open(file_path) as f:\n",
    "        words = f.read()\n",
    "\n",
    "    # Split the words into a list\n",
    "    all_words = words.split()\n",
    "    valid_words = []\n",
    "\n",
    "    # Loop through every word in the dictionary\n",
    "    for word in all_words:\n",
    "        # Append words to the list\n",
    "            valid_words.append(word.upper())\n",
    "\n",
    "    return valid_words"
   ]
  },
  {
   "cell_type": "code",
   "execution_count": null,
   "id": "18174800",
   "metadata": {},
   "outputs": [],
   "source": [
    "# Randomly choose a hidden word from the list of valid words\n",
    "def generate_hidden_word_ec(valid_words):\n",
    "    return random.choice(valid_words)"
   ]
  },
  {
   "cell_type": "code",
   "execution_count": null,
   "id": "205e24bd",
   "metadata": {},
   "outputs": [],
   "source": [
    "# Get the user's guess and convert it to uppercase\n",
    "def get_user_guess_ec(hidden_word_length):\n",
    "    return input(f\"Enter your guess ({hidden_word_length}-letter word): \").upper()"
   ]
  },
  {
   "cell_type": "code",
   "execution_count": null,
   "id": "6c5648ab",
   "metadata": {},
   "outputs": [],
   "source": [
    "# Validate the user's guess\n",
    "def validate_guess_ec(guess, valid_words, hidden_word_length):\n",
    "    # Check if the length of the guess matches the hidden word length, is alphabetic, and is in the list of valid words\n",
    "    return len(guess) == hidden_word_length and guess.isalpha() and guess.upper() in valid_words"
   ]
  },
  {
   "cell_type": "code",
   "execution_count": null,
   "id": "1a096de8",
   "metadata": {},
   "outputs": [],
   "source": [
    "# Play the Wordle game\n",
    "def wordle_ec():\n",
    "    valid_words = filter_valid_words(\"dictionary.txt\")\n",
    "    hidden_word = generate_hidden_word_ec(valid_words)\n",
    "    hidden_word_length = len(hidden_word)\n",
    "\n",
    "    # Set the number of attempts to the length of the word plus one\n",
    "    attempts = hidden_word_length + 1\n",
    "    while attempts > 0:\n",
    "        # Get the user's guess\n",
    "        guess = get_user_guess_ec(hidden_word_length)\n",
    "\n",
    "        # Validate the user's guess\n",
    "        while not validate_guess_ec(guess, valid_words, hidden_word_length):\n",
    "            print(\"Invalid guess. Please enter a valid word of the same length as the hidden word.\")\n",
    "            guess = get_user_guess()\n",
    "\n",
    "        # Compare the user's guess to the hidden word and display the result\n",
    "        result = compare_guess_to_word(guess, hidden_word)\n",
    "        display_guess_result(guess, result)\n",
    "\n",
    "        # Check if the user has guessed the word\n",
    "        if \"\".join(result) == \"^\" * hidden_word_length:\n",
    "            print(f\"Congratulations! You guessed the word: {hidden_word}\")\n",
    "            break\n",
    "        else:\n",
    "            attempts -= 1\n",
    "            print(f\"{attempts} attempts remaining.\")\n",
    "\n",
    "    # Print the result when the user runs out of attempts\n",
    "    if attempts == 0:\n",
    "        print(f\"You ran out of attempts. The hidden word was: {hidden_word}\")"
   ]
  },
  {
   "cell_type": "code",
   "execution_count": null,
   "id": "f8d78188",
   "metadata": {
    "scrolled": false
   },
   "outputs": [],
   "source": [
    "wordle_ec()"
   ]
  },
  {
   "cell_type": "code",
   "execution_count": null,
   "id": "bc9708a6",
   "metadata": {},
   "outputs": [],
   "source": []
  }
 ],
 "metadata": {
  "kernelspec": {
   "display_name": "Python 3 (ipykernel)",
   "language": "python",
   "name": "python3"
  },
  "language_info": {
   "codemirror_mode": {
    "name": "ipython",
    "version": 3
   },
   "file_extension": ".py",
   "mimetype": "text/x-python",
   "name": "python",
   "nbconvert_exporter": "python",
   "pygments_lexer": "ipython3",
   "version": "3.9.13"
  }
 },
 "nbformat": 4,
 "nbformat_minor": 5
}
